{
 "cells": [
  {
   "cell_type": "markdown",
   "id": "6c44b5c5-90a1-4ad2-9841-61a28faa5c98",
   "metadata": {},
   "source": [
    "<h1 align='center'>Data Management with SQL and Python</h1>"
   ]
  },
  {
   "cell_type": "markdown",
   "id": "e66e6c27-5fb3-4959-be08-8bcc308b6160",
   "metadata": {},
   "source": [
    "## SQL and Relational Databases\n",
    "\n",
    "A **relational database** is a type of database that organises data into one or more tables, each with a unique identifier, and then uses relationships between these tables to manage and access the data. The data in a relational database is typically organised into tables consisting of rows and columns, where each column represents a specific type of data and each row represents a specific instance of that data.\n",
    "\n",
    "**SQL** (Structured Query Language) is a programming language designed for managing and manipulating relational databases. It is a standard language used to communicate with databases, and it allows users to retrieve, modify, and manage data stored in a relational database.\n",
    "\n",
    "**SQLite** is a software library that provides a lightweight and efficient way to store and manage relational databases. It is a self-contained, serverless, zero-configuration, transactional SQL database engine, which means it does not require a separate server process to be running and can be used within an application itself."
   ]
  },
  {
   "cell_type": "code",
   "execution_count": 1,
   "id": "10558c14-71fd-4162-8d90-b3888b7cc3b6",
   "metadata": {
    "tags": []
   },
   "outputs": [],
   "source": [
    "import numpy as np\n",
    "import pandas as pd\n",
    "import sqlite3\n",
    "from sqlite3 import Error"
   ]
  },
  {
   "cell_type": "code",
   "execution_count": 3,
   "id": "10a5354d-c45d-46eb-af54-08983d061999",
   "metadata": {
    "tags": []
   },
   "outputs": [
    {
     "name": "stdout",
     "output_type": "stream",
     "text": [
      "Connection established!\n"
     ]
    }
   ],
   "source": [
    "def create_connection(db_file):\n",
    "    \"\"\"\n",
    "    Connect to the specified SQLite database, if not exist, create a new one;\n",
    "    :db_file: location of db to connect to\n",
    "    :return: Connection object or None\n",
    "    \"\"\"\n",
    "    conn = None\n",
    "    try:\n",
    "        conn = sqlite3.connect(db_file)\n",
    "        print(\"Connection established!\")\n",
    "    except Error as e:\n",
    "        print(e)\n",
    "    return conn\n",
    "\n",
    "db_file_loc = 'data/music.db'\n",
    "conn = create_connection(db_file_loc)"
   ]
  }
 ],
 "metadata": {
  "kernelspec": {
   "display_name": "Python 3 (ipykernel)",
   "language": "python",
   "name": "python3"
  },
  "language_info": {
   "codemirror_mode": {
    "name": "ipython",
    "version": 3
   },
   "file_extension": ".py",
   "mimetype": "text/x-python",
   "name": "python",
   "nbconvert_exporter": "python",
   "pygments_lexer": "ipython3",
   "version": "3.10.10"
  }
 },
 "nbformat": 4,
 "nbformat_minor": 5
}
