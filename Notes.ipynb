{
 "cells": [
  {
   "cell_type": "markdown",
   "id": "6808ebba-e0c6-4971-8958-6e074999a7c2",
   "metadata": {},
   "source": [
    "<h1 align='center'>Data Analysis with Python</h1>"
   ]
  },
  {
   "cell_type": "markdown",
   "id": "41ffb5f8-857e-4cd2-8103-2d21d75d0a80",
   "metadata": {},
   "source": [
    "## Python Libraries for Data Science\n",
    "\n",
    "NumPy and Pandas are popular Python frameworks for data science.\n",
    "\n",
    "Optimised using underlying functionality programmed with C, NumPy provides a much faster implementations of the array functionality. Since arrays are essential parts of the machine learning ecosystem, NumPy is often used along with SciPy, Pandas and Matplotlib.\n",
    "\n",
    "Pandas, which is also optimised by implementation of C, provides convenient tools for data manipulation and analysis."
   ]
  },
  {
   "cell_type": "markdown",
   "id": "9b5d256e-11fd-48d1-9835-7549f59c1343",
   "metadata": {},
   "source": [
    "### NumPy\n",
    "\n",
    "**NumPy** is a Python library that is used for scientific computing and numerical analysis. It provides a powerful N-dimensional array object, along with a large collection of mathematical functions for working with arrays.\n",
    "\n",
    "Here are some of the basic functionalities of NumPy:\n",
    "\n",
    "1. Arrays: NumPy's main data structure is the `ndarray` (N-dimensional array), which is a collection of elements of the same data type, arranged in a grid with one or more dimensions. Arrays can be created from Python lists, tuples, or other arrays, and can be manipulated using a variety of functions.\n",
    "\n",
    "2. Mathematical Functions: NumPy provides a large collection of mathematical functions for working with arrays. These functions include basic operations like addition, subtraction, multiplication, and division, as well as more advanced functions like trigonometric functions, exponential and logarithmic functions, and linear algebra functions.\n",
    "\n",
    "3. Array Manipulation: NumPy provides functions for reshaping, flattening, and transposing arrays, as well as functions for concatenating, splitting, and stacking arrays.\n",
    "\n",
    "4. Broadcasting: NumPy provides a powerful broadcasting mechanism that allows mathematical operations to be performed between arrays of different shapes and sizes.\n",
    "\n",
    "5. File Input/Output: NumPy provides functions for reading and writing arrays to and from disk, in a variety of file formats, including text files and binary files.\n",
    "\n",
    "Overall, NumPy is a powerful library for scientific computing and numerical analysis, and it's widely used in data science and machine learning applications. It provides a solid foundation for working with numerical data, and is often used in conjunction with other libraries like Pandas and Matplotlib."
   ]
  },
  {
   "cell_type": "code",
   "execution_count": 1,
   "id": "63ecae1d-0419-4f1c-8866-d52c098f2186",
   "metadata": {
    "tags": []
   },
   "outputs": [],
   "source": [
    "# import NumPy and Pandas\n",
    "import numpy as np\n",
    "import pandas as pd"
   ]
  },
  {
   "cell_type": "code",
   "execution_count": 2,
   "id": "e6912d89-cdff-40f2-b2c1-6db488c85d3c",
   "metadata": {
    "tags": []
   },
   "outputs": [
    {
     "name": "stdout",
     "output_type": "stream",
     "text": [
      "This is a Python list: [0, 1, 2, 3, 4, 5]\n",
      "This is a NumPy array created from the above list: [0 1 2 3 4 5]\n",
      "The shape of the array is: (6,)\n"
     ]
    }
   ],
   "source": [
    "array = [0,1,2,3,4,5]\n",
    "print(\"This is a Python list:\", array)\n",
    "\n",
    "np_array = np.array(array)\n",
    "print(\"This is a NumPy array created from the above list:\", np_array)\n",
    "print(\"The shape of the array is:\", np_array.shape)"
   ]
  },
  {
   "cell_type": "markdown",
   "id": "5e467f0a-1e7f-4ccf-a0f8-78a338aca805",
   "metadata": {},
   "source": [
    "A NumPy array can be reshaped into matrices with different dimensions. Using `reshape(x,y)`, an array is reshaped into a $x \\times y$ matrix."
   ]
  },
  {
   "cell_type": "code",
   "execution_count": 3,
   "id": "d8c1e9d9-c127-47dd-acf4-8f5a9c5f8f47",
   "metadata": {
    "tags": []
   },
   "outputs": [
    {
     "name": "stdout",
     "output_type": "stream",
     "text": [
      "A 3x2 matrix:\n",
      " [[0 1]\n",
      " [2 3]\n",
      " [4 5]] \n",
      "\n",
      "A 2x3 matrix:\n",
      " [[0 1 2]\n",
      " [3 4 5]]\n"
     ]
    }
   ],
   "source": [
    "np_array = np_array.reshape(3,2) # Reshaping the array into a 3x2 matrix\n",
    "print(\"A 3x2 matrix:\\n\", np_array, \"\\n\")\n",
    "\n",
    "np_array = np_array.reshape(2,3) # Reshaping the array into a 2x3 matrix\n",
    "print(\"A 2x3 matrix:\\n\", np_array)"
   ]
  },
  {
   "cell_type": "markdown",
   "id": "db2c80a4-5a75-4270-88d9-3ea713ca1368",
   "metadata": {},
   "source": [
    "With a NumPy array, arithmetic operations can also be done easily with methods such as `np.add()`, `np.subtract()` and `np.power()`."
   ]
  },
  {
   "cell_type": "code",
   "execution_count": 4,
   "id": "6417cb47-ab1b-4f9a-8ff6-8b4d9fc1b9e4",
   "metadata": {
    "tags": []
   },
   "outputs": [
    {
     "name": "stdout",
     "output_type": "stream",
     "text": [
      "The original array is: [0 1 2 3 4 5]\n",
      "Adding 3 to each element: [3 4 5 6 7 8]\n",
      "Squaring each element: [ 0  1  4  9 16 25]\n",
      "Taking a power of 3 for each element: [  0   1   8  27  64 125]\n"
     ]
    }
   ],
   "source": [
    "np_array = np_array.reshape(6,)\n",
    "print(\"The original array is:\", np_array)\n",
    "\n",
    "# performing arithmetic manipulations\n",
    "print(\"Adding 3 to each element:\", np.add(np_array, 3))\n",
    "print(\"Squaring each element:\", np.square(np_array))\n",
    "print(\"Taking a power of 3 for each element:\", np.power(np_array, 3))"
   ]
  },
  {
   "cell_type": "markdown",
   "id": "45a9246f-3e50-4c11-9cd5-10cd870e0e97",
   "metadata": {},
   "source": [
    "The method `reshape(-1,1)`  is used to reshape a 1-dimensional array into a 2-dimensional array, where the number of rows is inferred automatically, and the number of columns is set to 1."
   ]
  },
  {
   "cell_type": "code",
   "execution_count": 5,
   "id": "3cbc2dad-e75f-428b-804b-eb331ef973aa",
   "metadata": {
    "tags": []
   },
   "outputs": [
    {
     "name": "stdout",
     "output_type": "stream",
     "text": [
      "[[0]\n",
      " [1]\n",
      " [2]\n",
      " [3]\n",
      " [4]\n",
      " [5]]\n"
     ]
    }
   ],
   "source": [
    "np_array = np_array.reshape(-1,1)\n",
    "print(np_array)"
   ]
  },
  {
   "cell_type": "markdown",
   "id": "c51bed48-7942-4041-8c20-c7b570d568e3",
   "metadata": {},
   "source": [
    "Meanwhile, `reshape(1,-1)`is used to reshape a 1-dimensional array into a 2-dimensional array, where the number of columns is inferred automatically, and the number of rows is set to 1."
   ]
  },
  {
   "cell_type": "code",
   "execution_count": 6,
   "id": "927b03f3-9b68-4d6f-8f9c-c5566a0a0684",
   "metadata": {
    "tags": []
   },
   "outputs": [
    {
     "name": "stdout",
     "output_type": "stream",
     "text": [
      "[[0 1 2 3 4 5]]\n"
     ]
    }
   ],
   "source": [
    "np_array = np_array.reshape(1,-1)\n",
    "print(np_array)"
   ]
  },
  {
   "cell_type": "markdown",
   "id": "df5bdcc6-d77e-4456-9bfe-34a7b7128547",
   "metadata": {},
   "source": [
    "## Pandas\n",
    "\n",
    "**Pandas** is a popular Python library for data manipulation and analysis. It provides many powerful and flexible data structures and functions for working with structured data, such as tables or spreadsheets. Some of the basic functionalities of Pandas are:\n",
    "\n",
    "1. Data Structures: Pandas provides two main data structures: `Series` and `DataFrame`. A `Series` is a one-dimensional array-like object that can hold any data type, such as integers, floats, or strings. A `DataFrame` is a two-dimensional table-like structure that consists of rows and columns, where each column can have a different data type.\n",
    "\n",
    "2. Data Input/Output: Pandas allows users to read data from various file formats like CSV, Excel, SQL databases, and more. Additionally, users can write data to these same file formats as well.\n",
    "\n",
    "3. Data Selection and Filtering: Pandas offers powerful indexing and slicing capabilities that enable users to select specific rows or columns of a `DataFrame`. It also allows users to filter data based on specific conditions.\n",
    "\n",
    "4. Data Cleaning and Transformation: Pandas provides functions to handle missing data, duplicate data, and categorical data. Additionally, users can perform various data transformations, such as adding or removing columns, renaming columns, and applying functions to data.\n",
    "\n",
    "5. Data Aggregation and Grouping: Pandas enables users to group data based on certain criteria and apply various aggregate functions, such as sum, mean, count, and more, to the grouped data.\n",
    "\n",
    "These are just a few of the basic functionalities of Pandas. Overall, Pandas is a powerful and versatile tool for data analysis and manipulation, and it's widely used in data science and machine learning applications."
   ]
  },
  {
   "cell_type": "code",
   "execution_count": 7,
   "id": "68327dc7-3569-44d2-9962-692e7ba52f5b",
   "metadata": {
    "tags": []
   },
   "outputs": [],
   "source": [
    "# read a CSV file and cnonverting it into a Pandas DataFrame\n",
    "data = pd.read_csv('data/random_data.csv')"
   ]
  },
  {
   "cell_type": "code",
   "execution_count": 8,
   "id": "3122bd50-516e-4aab-8e5a-58f23d7e3671",
   "metadata": {
    "tags": []
   },
   "outputs": [
    {
     "data": {
      "text/html": [
       "<div>\n",
       "<style scoped>\n",
       "    .dataframe tbody tr th:only-of-type {\n",
       "        vertical-align: middle;\n",
       "    }\n",
       "\n",
       "    .dataframe tbody tr th {\n",
       "        vertical-align: top;\n",
       "    }\n",
       "\n",
       "    .dataframe thead th {\n",
       "        text-align: right;\n",
       "    }\n",
       "</style>\n",
       "<table border=\"1\" class=\"dataframe\">\n",
       "  <thead>\n",
       "    <tr style=\"text-align: right;\">\n",
       "      <th></th>\n",
       "      <th>Data1</th>\n",
       "      <th>Data2</th>\n",
       "      <th>Town</th>\n",
       "      <th>Boolean</th>\n",
       "      <th>Float</th>\n",
       "    </tr>\n",
       "  </thead>\n",
       "  <tbody>\n",
       "    <tr>\n",
       "      <th>0</th>\n",
       "      <td>17</td>\n",
       "      <td>54</td>\n",
       "      <td>Bradford</td>\n",
       "      <td>True</td>\n",
       "      <td>16.6224</td>\n",
       "    </tr>\n",
       "    <tr>\n",
       "      <th>1</th>\n",
       "      <td>88</td>\n",
       "      <td>60</td>\n",
       "      <td>Oxford</td>\n",
       "      <td>True</td>\n",
       "      <td>21.0332</td>\n",
       "    </tr>\n",
       "    <tr>\n",
       "      <th>2</th>\n",
       "      <td>58</td>\n",
       "      <td>33</td>\n",
       "      <td>Menstrie</td>\n",
       "      <td>False</td>\n",
       "      <td>15.4381</td>\n",
       "    </tr>\n",
       "    <tr>\n",
       "      <th>3</th>\n",
       "      <td>91</td>\n",
       "      <td>55</td>\n",
       "      <td>Magherafelt</td>\n",
       "      <td>True</td>\n",
       "      <td>29.8860</td>\n",
       "    </tr>\n",
       "    <tr>\n",
       "      <th>4</th>\n",
       "      <td>60</td>\n",
       "      <td>34</td>\n",
       "      <td>Guiseley</td>\n",
       "      <td>False</td>\n",
       "      <td>6.7686</td>\n",
       "    </tr>\n",
       "  </tbody>\n",
       "</table>\n",
       "</div>"
      ],
      "text/plain": [
       "   Data1  Data2         Town  Boolean    Float\n",
       "0     17     54     Bradford     True  16.6224\n",
       "1     88     60       Oxford     True  21.0332\n",
       "2     58     33     Menstrie    False  15.4381\n",
       "3     91     55  Magherafelt     True  29.8860\n",
       "4     60     34     Guiseley    False   6.7686"
      ]
     },
     "execution_count": 8,
     "metadata": {},
     "output_type": "execute_result"
    }
   ],
   "source": [
    "data.head() # print the first five rows of the DataFrame"
   ]
  },
  {
   "cell_type": "code",
   "execution_count": 9,
   "id": "741b163b-e537-4938-8ab2-4744bb837c38",
   "metadata": {
    "tags": []
   },
   "outputs": [
    {
     "data": {
      "text/html": [
       "<div>\n",
       "<style scoped>\n",
       "    .dataframe tbody tr th:only-of-type {\n",
       "        vertical-align: middle;\n",
       "    }\n",
       "\n",
       "    .dataframe tbody tr th {\n",
       "        vertical-align: top;\n",
       "    }\n",
       "\n",
       "    .dataframe thead th {\n",
       "        text-align: right;\n",
       "    }\n",
       "</style>\n",
       "<table border=\"1\" class=\"dataframe\">\n",
       "  <thead>\n",
       "    <tr style=\"text-align: right;\">\n",
       "      <th></th>\n",
       "      <th>Data1</th>\n",
       "      <th>Data2</th>\n",
       "      <th>Town</th>\n",
       "      <th>Boolean</th>\n",
       "      <th>Float</th>\n",
       "    </tr>\n",
       "  </thead>\n",
       "  <tbody>\n",
       "    <tr>\n",
       "      <th>59</th>\n",
       "      <td>27</td>\n",
       "      <td>20</td>\n",
       "      <td>Wareham</td>\n",
       "      <td>True</td>\n",
       "      <td>70.5584</td>\n",
       "    </tr>\n",
       "    <tr>\n",
       "      <th>60</th>\n",
       "      <td>17</td>\n",
       "      <td>75</td>\n",
       "      <td>Halstead</td>\n",
       "      <td>False</td>\n",
       "      <td>56.5286</td>\n",
       "    </tr>\n",
       "    <tr>\n",
       "      <th>61</th>\n",
       "      <td>55</td>\n",
       "      <td>1</td>\n",
       "      <td>Crowle</td>\n",
       "      <td>False</td>\n",
       "      <td>57.3643</td>\n",
       "    </tr>\n",
       "    <tr>\n",
       "      <th>62</th>\n",
       "      <td>59</td>\n",
       "      <td>1</td>\n",
       "      <td>Cadishead</td>\n",
       "      <td>True</td>\n",
       "      <td>35.8985</td>\n",
       "    </tr>\n",
       "    <tr>\n",
       "      <th>63</th>\n",
       "      <td>69</td>\n",
       "      <td>10</td>\n",
       "      <td>Strabane</td>\n",
       "      <td>True</td>\n",
       "      <td>86.4741</td>\n",
       "    </tr>\n",
       "  </tbody>\n",
       "</table>\n",
       "</div>"
      ],
      "text/plain": [
       "    Data1  Data2       Town  Boolean    Float\n",
       "59     27     20    Wareham     True  70.5584\n",
       "60     17     75   Halstead    False  56.5286\n",
       "61     55      1     Crowle    False  57.3643\n",
       "62     59      1  Cadishead     True  35.8985\n",
       "63     69     10   Strabane     True  86.4741"
      ]
     },
     "execution_count": 9,
     "metadata": {},
     "output_type": "execute_result"
    }
   ],
   "source": [
    "data.tail() # print the last five rows of the DataFrame"
   ]
  },
  {
   "cell_type": "code",
   "execution_count": 10,
   "id": "70f7833d-4b35-4949-b55e-4edc3f802efd",
   "metadata": {
    "tags": []
   },
   "outputs": [
    {
     "data": {
      "text/html": [
       "<div>\n",
       "<style scoped>\n",
       "    .dataframe tbody tr th:only-of-type {\n",
       "        vertical-align: middle;\n",
       "    }\n",
       "\n",
       "    .dataframe tbody tr th {\n",
       "        vertical-align: top;\n",
       "    }\n",
       "\n",
       "    .dataframe thead th {\n",
       "        text-align: right;\n",
       "    }\n",
       "</style>\n",
       "<table border=\"1\" class=\"dataframe\">\n",
       "  <thead>\n",
       "    <tr style=\"text-align: right;\">\n",
       "      <th></th>\n",
       "      <th>Data1</th>\n",
       "      <th>Data2</th>\n",
       "      <th>Town</th>\n",
       "      <th>Boolean</th>\n",
       "      <th>Float</th>\n",
       "    </tr>\n",
       "  </thead>\n",
       "  <tbody>\n",
       "    <tr>\n",
       "      <th>61</th>\n",
       "      <td>55</td>\n",
       "      <td>1</td>\n",
       "      <td>Crowle</td>\n",
       "      <td>False</td>\n",
       "      <td>57.3643</td>\n",
       "    </tr>\n",
       "    <tr>\n",
       "      <th>62</th>\n",
       "      <td>59</td>\n",
       "      <td>1</td>\n",
       "      <td>Cadishead</td>\n",
       "      <td>True</td>\n",
       "      <td>35.8985</td>\n",
       "    </tr>\n",
       "    <tr>\n",
       "      <th>13</th>\n",
       "      <td>49</td>\n",
       "      <td>1</td>\n",
       "      <td>Sandown</td>\n",
       "      <td>False</td>\n",
       "      <td>93.8800</td>\n",
       "    </tr>\n",
       "    <tr>\n",
       "      <th>35</th>\n",
       "      <td>15</td>\n",
       "      <td>2</td>\n",
       "      <td>Wolverhampton</td>\n",
       "      <td>True</td>\n",
       "      <td>84.1808</td>\n",
       "    </tr>\n",
       "    <tr>\n",
       "      <th>40</th>\n",
       "      <td>39</td>\n",
       "      <td>2</td>\n",
       "      <td>Cullercoats</td>\n",
       "      <td>False</td>\n",
       "      <td>93.7144</td>\n",
       "    </tr>\n",
       "    <tr>\n",
       "      <th>...</th>\n",
       "      <td>...</td>\n",
       "      <td>...</td>\n",
       "      <td>...</td>\n",
       "      <td>...</td>\n",
       "      <td>...</td>\n",
       "    </tr>\n",
       "    <tr>\n",
       "      <th>44</th>\n",
       "      <td>85</td>\n",
       "      <td>86</td>\n",
       "      <td>Bletchley</td>\n",
       "      <td>False</td>\n",
       "      <td>1.2433</td>\n",
       "    </tr>\n",
       "    <tr>\n",
       "      <th>37</th>\n",
       "      <td>43</td>\n",
       "      <td>88</td>\n",
       "      <td>Milford Haven</td>\n",
       "      <td>True</td>\n",
       "      <td>37.8513</td>\n",
       "    </tr>\n",
       "    <tr>\n",
       "      <th>26</th>\n",
       "      <td>81</td>\n",
       "      <td>90</td>\n",
       "      <td>Llandudno Junction</td>\n",
       "      <td>True</td>\n",
       "      <td>7.0010</td>\n",
       "    </tr>\n",
       "    <tr>\n",
       "      <th>5</th>\n",
       "      <td>72</td>\n",
       "      <td>94</td>\n",
       "      <td>Hyde</td>\n",
       "      <td>False</td>\n",
       "      <td>52.5723</td>\n",
       "    </tr>\n",
       "    <tr>\n",
       "      <th>10</th>\n",
       "      <td>95</td>\n",
       "      <td>95</td>\n",
       "      <td>Kinghorn</td>\n",
       "      <td>True</td>\n",
       "      <td>81.8940</td>\n",
       "    </tr>\n",
       "  </tbody>\n",
       "</table>\n",
       "<p>64 rows × 5 columns</p>\n",
       "</div>"
      ],
      "text/plain": [
       "    Data1  Data2                Town  Boolean    Float\n",
       "61     55      1              Crowle    False  57.3643\n",
       "62     59      1           Cadishead     True  35.8985\n",
       "13     49      1             Sandown    False  93.8800\n",
       "35     15      2       Wolverhampton     True  84.1808\n",
       "40     39      2         Cullercoats    False  93.7144\n",
       "..    ...    ...                 ...      ...      ...\n",
       "44     85     86           Bletchley    False   1.2433\n",
       "37     43     88       Milford Haven     True  37.8513\n",
       "26     81     90  Llandudno Junction     True   7.0010\n",
       "5      72     94                Hyde    False  52.5723\n",
       "10     95     95            Kinghorn     True  81.8940\n",
       "\n",
       "[64 rows x 5 columns]"
      ]
     },
     "execution_count": 10,
     "metadata": {},
     "output_type": "execute_result"
    }
   ],
   "source": [
    "data.sort_values('Data2') # sorting a DataFrame with values in a column"
   ]
  },
  {
   "cell_type": "markdown",
   "id": "b295a5e4-9460-4970-a771-1b4e9c7d851d",
   "metadata": {},
   "source": [
    "NumPy and Pandas functionalities can be used together. For instance, a NumPy array can be appended to a Pandas DataFrame as a column."
   ]
  },
  {
   "cell_type": "code",
   "execution_count": 11,
   "id": "50c68372-00fb-49f9-b915-25aca73748c6",
   "metadata": {
    "tags": []
   },
   "outputs": [
    {
     "data": {
      "text/html": [
       "<div>\n",
       "<style scoped>\n",
       "    .dataframe tbody tr th:only-of-type {\n",
       "        vertical-align: middle;\n",
       "    }\n",
       "\n",
       "    .dataframe tbody tr th {\n",
       "        vertical-align: top;\n",
       "    }\n",
       "\n",
       "    .dataframe thead th {\n",
       "        text-align: right;\n",
       "    }\n",
       "</style>\n",
       "<table border=\"1\" class=\"dataframe\">\n",
       "  <thead>\n",
       "    <tr style=\"text-align: right;\">\n",
       "      <th></th>\n",
       "      <th>Data1</th>\n",
       "      <th>Data2</th>\n",
       "      <th>Town</th>\n",
       "      <th>Boolean</th>\n",
       "      <th>Float</th>\n",
       "      <th>Data3</th>\n",
       "    </tr>\n",
       "  </thead>\n",
       "  <tbody>\n",
       "    <tr>\n",
       "      <th>0</th>\n",
       "      <td>17</td>\n",
       "      <td>54</td>\n",
       "      <td>Bradford</td>\n",
       "      <td>True</td>\n",
       "      <td>16.6224</td>\n",
       "      <td>10</td>\n",
       "    </tr>\n",
       "    <tr>\n",
       "      <th>1</th>\n",
       "      <td>88</td>\n",
       "      <td>60</td>\n",
       "      <td>Oxford</td>\n",
       "      <td>True</td>\n",
       "      <td>21.0332</td>\n",
       "      <td>11</td>\n",
       "    </tr>\n",
       "    <tr>\n",
       "      <th>2</th>\n",
       "      <td>58</td>\n",
       "      <td>33</td>\n",
       "      <td>Menstrie</td>\n",
       "      <td>False</td>\n",
       "      <td>15.4381</td>\n",
       "      <td>12</td>\n",
       "    </tr>\n",
       "    <tr>\n",
       "      <th>3</th>\n",
       "      <td>91</td>\n",
       "      <td>55</td>\n",
       "      <td>Magherafelt</td>\n",
       "      <td>True</td>\n",
       "      <td>29.8860</td>\n",
       "      <td>13</td>\n",
       "    </tr>\n",
       "    <tr>\n",
       "      <th>4</th>\n",
       "      <td>60</td>\n",
       "      <td>34</td>\n",
       "      <td>Guiseley</td>\n",
       "      <td>False</td>\n",
       "      <td>6.7686</td>\n",
       "      <td>14</td>\n",
       "    </tr>\n",
       "    <tr>\n",
       "      <th>...</th>\n",
       "      <td>...</td>\n",
       "      <td>...</td>\n",
       "      <td>...</td>\n",
       "      <td>...</td>\n",
       "      <td>...</td>\n",
       "      <td>...</td>\n",
       "    </tr>\n",
       "    <tr>\n",
       "      <th>59</th>\n",
       "      <td>27</td>\n",
       "      <td>20</td>\n",
       "      <td>Wareham</td>\n",
       "      <td>True</td>\n",
       "      <td>70.5584</td>\n",
       "      <td>69</td>\n",
       "    </tr>\n",
       "    <tr>\n",
       "      <th>60</th>\n",
       "      <td>17</td>\n",
       "      <td>75</td>\n",
       "      <td>Halstead</td>\n",
       "      <td>False</td>\n",
       "      <td>56.5286</td>\n",
       "      <td>70</td>\n",
       "    </tr>\n",
       "    <tr>\n",
       "      <th>61</th>\n",
       "      <td>55</td>\n",
       "      <td>1</td>\n",
       "      <td>Crowle</td>\n",
       "      <td>False</td>\n",
       "      <td>57.3643</td>\n",
       "      <td>71</td>\n",
       "    </tr>\n",
       "    <tr>\n",
       "      <th>62</th>\n",
       "      <td>59</td>\n",
       "      <td>1</td>\n",
       "      <td>Cadishead</td>\n",
       "      <td>True</td>\n",
       "      <td>35.8985</td>\n",
       "      <td>72</td>\n",
       "    </tr>\n",
       "    <tr>\n",
       "      <th>63</th>\n",
       "      <td>69</td>\n",
       "      <td>10</td>\n",
       "      <td>Strabane</td>\n",
       "      <td>True</td>\n",
       "      <td>86.4741</td>\n",
       "      <td>73</td>\n",
       "    </tr>\n",
       "  </tbody>\n",
       "</table>\n",
       "<p>64 rows × 6 columns</p>\n",
       "</div>"
      ],
      "text/plain": [
       "    Data1  Data2         Town  Boolean    Float  Data3\n",
       "0      17     54     Bradford     True  16.6224     10\n",
       "1      88     60       Oxford     True  21.0332     11\n",
       "2      58     33     Menstrie    False  15.4381     12\n",
       "3      91     55  Magherafelt     True  29.8860     13\n",
       "4      60     34     Guiseley    False   6.7686     14\n",
       "..    ...    ...          ...      ...      ...    ...\n",
       "59     27     20      Wareham     True  70.5584     69\n",
       "60     17     75     Halstead    False  56.5286     70\n",
       "61     55      1       Crowle    False  57.3643     71\n",
       "62     59      1    Cadishead     True  35.8985     72\n",
       "63     69     10     Strabane     True  86.4741     73\n",
       "\n",
       "[64 rows x 6 columns]"
      ]
     },
     "execution_count": 11,
     "metadata": {},
     "output_type": "execute_result"
    }
   ],
   "source": [
    "np_array = np.arange(10,74)\n",
    "pd.concat([data, pd.DataFrame({'Data3': np_array})], axis=1)"
   ]
  },
  {
   "cell_type": "markdown",
   "id": "afe232b0-6c5d-4e92-a678-592287eedc2b",
   "metadata": {},
   "source": [
    "## Matplotlib\n",
    "\n",
    "**Matplotlib** is a popular data visualisation library for Python. It provides a range of tools for creating static, animated, and interactive visualisations in Python."
   ]
  },
  {
   "cell_type": "code",
   "execution_count": 12,
   "id": "24713597-d94a-4620-b8cb-d73106a65a82",
   "metadata": {
    "tags": []
   },
   "outputs": [],
   "source": [
    "import matplotlib.pyplot as plt\n",
    "\n",
    "# makes prettier plots\n",
    "import seaborn as sns\n",
    "plt.style.use('seaborn-v0_8')"
   ]
  },
  {
   "cell_type": "markdown",
   "id": "e86108a2-16c1-4af4-915e-92c1365c72c3",
   "metadata": {},
   "source": [
    "In Matplotlib, `fig` and `ax` are used to create and modify figures and subplots.\n",
    "\n",
    "`fig` stands for \"figure\" and is an instance of the `Figure` class in Matplotlib. A figure is the top-level container that holds all the subplots, axis labels, titles, etc. `fig` is usually created using the `plt.figure()` function and can be used to set global properties of the figure such as the figure size, title, and colour.\n",
    "\n",
    "`ax` stands for \"axis\" and refers to a single subplot or set of subplots within a figure. `ax` is an instance of the `Axes` class in matplotlib, which is used to control properties of the individual subplot(s) such as the x and y limits, axis labels, and title. ax is usually created using the `fig.add_subplot()` method, which allows you to specify the position of the subplot within the figure.\n",
    "\n",
    "In summary, `fig` is used to control global properties of the figure, while `ax` is used to control the properties of individual subplots within the figure."
   ]
  },
  {
   "cell_type": "markdown",
   "id": "49fcf9be-2152-4703-901c-a79fa15d19f5",
   "metadata": {},
   "source": [
    "`plt.figure()` is a function in Matplotlib that creates a new figure object. A figure object represents the entire window or page where the plot is drawn. The `plt.figure()` function can be used to specify the size, aspect ratio, and other attributes of the figure before creating the plot.\n",
    "\n",
    "`plt.show()` is used to display all open figures."
   ]
  },
  {
   "cell_type": "markdown",
   "id": "a94eeb47-836a-40c8-a46a-c2a93678ba5f",
   "metadata": {},
   "source": [
    "Common types of figures which can be created with Matplotlib include:\n",
    "\n",
    "Graph        | Method\n",
    "-------------|-------------------------------------\n",
    "Line plot    | `plt.plot()`\n",
    "Scatter plot | `plt.scatter()`\n",
    "Bar plot     | `plt.bar()`\n",
    "Histogram    | `plt.hist()`\n",
    "Box plot     | `plt.boxplot()`\n",
    "Heatmap      | `plt.imshow()` or `plt.pcolor()`\n",
    "Pie chart    | `plt.pie()`\n",
    "3D plot      | `plt.plot_surface()`, `plt.scatter()`, `plt.wireframe()`, etc."
   ]
  },
  {
   "cell_type": "code",
   "execution_count": 13,
   "id": "b5abcb22-183f-41c2-b75c-cdcc405bd362",
   "metadata": {
    "tags": []
   },
   "outputs": [
    {
     "data": {
      "image/png": "[encoded data removed]",
      "text/plain": [
       "<Figure size 1400x600 with 2 Axes>"
      ]
     },
     "metadata": {},
     "output_type": "display_data"
    }
   ],
   "source": [
    "fig, ax = plt.subplots(nrows=1, ncols=2, figsize=(14, 6))\n",
    "\n",
    "x = data['Data1']\n",
    "y = data['Data2']\n",
    "\n",
    "ax[0].scatter(x, y)\n",
    "ax[0].set_xlabel(\"Data1\")\n",
    "ax[0].set_ylabel(\"Data2\")\n",
    "ax[0].set_title(\"Data2 Against Data1\")\n",
    "\n",
    "ax[1].hist(data['Data2'], bins=8, color='teal')\n",
    "ax[1].set_xlabel('Value')\n",
    "ax[1].set_ylabel('Frequency')\n",
    "ax[1].set_title('Data2')\n",
    "\n",
    "plt.show()"
   ]
  },
  {
   "cell_type": "code",
   "execution_count": 14,
   "id": "b8f6aec3-5d19-4d85-b9e0-19a548465918",
   "metadata": {
    "tags": []
   },
   "outputs": [],
   "source": [
    "# read another set of data\n",
    "data2 = pd.read_csv('data/random_data_2.csv')"
   ]
  },
  {
   "cell_type": "markdown",
   "id": "c16b149c-e365-4797-87dc-00def8f082d7",
   "metadata": {},
   "source": [
    "Here is one way to plot stacked and clustered bar charts.\n",
    "\n",
    "Method            | Functionality\n",
    "------------------|-----------------------------------------\n",
    "`set_xlabel`      | Set the label for the x-axis\n",
    "`set_ylabel`      | Set the label for the y-axis\n",
    "`set_title`       | Set the title of the plot\n",
    "`set_xticklabels` | Rename the labels for each group in a bar plot\n",
    "`legend`          | Rename the labels for each colour in the legend"
   ]
  },
  {
   "cell_type": "code",
   "execution_count": 15,
   "id": "75239c9a-da88-489b-a6e8-d860378d4df2",
   "metadata": {},
   "outputs": [],
   "source": [
    "# evaluate the frequencies of 'Label' entries grouped by 'Category'\n",
    "counts = data2.groupby('Category')['Label'].value_counts().sort_index()"
   ]
  },
  {
   "cell_type": "code",
   "execution_count": 16,
   "id": "d9282357-fe08-449d-884c-2e571b2445d2",
   "metadata": {
    "tags": []
   },
   "outputs": [
    {
     "data": {
      "image/png": "[encoded data removed]",
      "text/plain": [
       "<Figure size 1400x600 with 2 Axes>"
      ]
     },
     "metadata": {},
     "output_type": "display_data"
    }
   ],
   "source": [
    "fig, (ax1, ax2) = plt.subplots(nrows=1, ncols=2, figsize=(14, 6))\n",
    "\n",
    "counts.unstack().plot(kind='bar', stacked=True, ax=ax1)\n",
    "counts.unstack().plot(kind='bar', stacked=False, ax=ax2)\n",
    "\n",
    "ax1.set_xlabel('Label')\n",
    "ax1.set_ylabel('Count')\n",
    "ax1.set_title('Frequencies of Labels by Category (Stacked)')\n",
    "ax1.set_xticklabels(['Apple','Orange','Mango','Durian']) # rename the labels for each group\n",
    "\n",
    "ax2.set_xlabel('Label')\n",
    "ax2.set_ylabel('Count')\n",
    "ax2.set_title('Frequencies of Labels by Category (Clustered)')\n",
    "ax2.legend(['David','Mary','John']) # rename the labels in the legend\n",
    "\n",
    "fig.suptitle(\"Bar Charts - Stacked and Clustered\")\n",
    "\n",
    "plt.show()"
   ]
  },
  {
   "cell_type": "markdown",
   "id": "d110a2cc-99ab-4061-b9e1-36f0f8f743b6",
   "metadata": {},
   "source": [
    "## Hypothesis Testing\n",
    "\n",
    "**Hypothesis testing** is a statistical method used to determine whether data differs *significantly* from some baseline or another set of data.\n",
    "\n",
    "The steps are as follows:\n",
    "1. Create a **null hypothesis** ($H_0$) and an **alternate hypothesis** ($H_A$). The null hypothesis represents the \"default\", which is assuming that the claim is true, and the alternate hypothesis is the opposite.\n",
    "2. Using the data, calculate a **test statistic** or, similarly, a ***p*-value** which summarises the data in relation to the hypothesis you're testing.\n",
    "3. By comparing the test statistic to a calculated cutoff, or similarly comparing the *p*-value to the chosen **significance level** ($\\alpha$) (by default, $\\alpha$=0.05), conclude whether we **reject the null hypothesis** (i.e. $p < \\alpha$) or **fail to reject the null hypothesis**. The null hypothesis is not \"accepted\" in any case.\n",
    "4. From the conclusion of the test, see whether the claim is accurate or not, and report our findings."
   ]
  },
  {
   "cell_type": "markdown",
   "id": "108340b8-3f27-4cd0-a7cb-abfbb61de7f8",
   "metadata": {},
   "source": [
    "**SciPy** provides functions to perform hypothesis tests.\n",
    "\n",
    "Each of the following returns a tuple with `(test_statistic, p_value)`:\n",
    "\n",
    "Function                                        | Description \n",
    "------------------------------------------------|---------------\n",
    "`stats.ttest_1samp`                             | perform a hypothesis test for the mean of *one* group of scores (against a baseline)\n",
    "`stats.ttest_ind`, `stats.ttest_ind_from_stats` | perform a hypothesis test for the mean between *two independent* groups of scores\n",
    "`stats.ttest_rel`                               | perform a hypothesis test for the mean between *two related* groups of scores"
   ]
  },
  {
   "cell_type": "code",
   "execution_count": 17,
   "id": "02a709b8-824f-484d-8d98-1ac231479b15",
   "metadata": {},
   "outputs": [],
   "source": [
    "# library for hypothesis testing\n",
    "from scipy import stats"
   ]
  },
  {
   "cell_type": "markdown",
   "id": "0d5665fc-20c5-489b-977f-7514a4d88c78",
   "metadata": {},
   "source": [
    "A *t*-test is a statistical hypothesis test used to determine whether there is a significant difference between the means of two groups of data. The *t*-test is a common test used in inferential statistics to compare the means of two groups of data, and it is used to answer questions such as:\n",
    "\n",
    "- Are the means of two samples different from each other?\n",
    "- Is the difference between the means statistically significant?\n",
    "\n",
    "The *t*-test assumes that the data is normally distributed and that the variance of the two groups being compared is equal. There are two types of *t*-tests: the two-sample *t*-test for independent samples (also called unpaired or independent *t*-test) and the paired *t*-test for dependent samples.\n",
    "\n",
    "The *t*-statistic is a test statistic that measures the difference between the means of the two groups relative to the variability within each group. It is calculated by taking the difference between the sample means and dividing it by the standard error of the difference between the means. The *t*-statistic is used to determine the *p*-value, which is the probability of observing a difference as large as the one observed in the sample, assuming that the null hypothesis (that the means are equal) is true."
   ]
  },
  {
   "cell_type": "code",
   "execution_count": 18,
   "id": "571096af-833f-4740-a96b-096677dccb51",
   "metadata": {
    "tags": []
   },
   "outputs": [
    {
     "data": {
      "text/html": [
       "<div>\n",
       "<style scoped>\n",
       "    .dataframe tbody tr th:only-of-type {\n",
       "        vertical-align: middle;\n",
       "    }\n",
       "\n",
       "    .dataframe tbody tr th {\n",
       "        vertical-align: top;\n",
       "    }\n",
       "\n",
       "    .dataframe thead th {\n",
       "        text-align: right;\n",
       "    }\n",
       "</style>\n",
       "<table border=\"1\" class=\"dataframe\">\n",
       "  <thead>\n",
       "    <tr style=\"text-align: right;\">\n",
       "      <th></th>\n",
       "      <th>Category</th>\n",
       "      <th>Score</th>\n",
       "      <th>Label</th>\n",
       "    </tr>\n",
       "  </thead>\n",
       "  <tbody>\n",
       "    <tr>\n",
       "      <th>0</th>\n",
       "      <td>1</td>\n",
       "      <td>49</td>\n",
       "      <td>5</td>\n",
       "    </tr>\n",
       "    <tr>\n",
       "      <th>1</th>\n",
       "      <td>4</td>\n",
       "      <td>50</td>\n",
       "      <td>6</td>\n",
       "    </tr>\n",
       "    <tr>\n",
       "      <th>2</th>\n",
       "      <td>2</td>\n",
       "      <td>24</td>\n",
       "      <td>7</td>\n",
       "    </tr>\n",
       "    <tr>\n",
       "      <th>3</th>\n",
       "      <td>1</td>\n",
       "      <td>44</td>\n",
       "      <td>6</td>\n",
       "    </tr>\n",
       "    <tr>\n",
       "      <th>4</th>\n",
       "      <td>3</td>\n",
       "      <td>43</td>\n",
       "      <td>6</td>\n",
       "    </tr>\n",
       "    <tr>\n",
       "      <th>...</th>\n",
       "      <td>...</td>\n",
       "      <td>...</td>\n",
       "      <td>...</td>\n",
       "    </tr>\n",
       "    <tr>\n",
       "      <th>123</th>\n",
       "      <td>3</td>\n",
       "      <td>64</td>\n",
       "      <td>5</td>\n",
       "    </tr>\n",
       "    <tr>\n",
       "      <th>124</th>\n",
       "      <td>4</td>\n",
       "      <td>47</td>\n",
       "      <td>5</td>\n",
       "    </tr>\n",
       "    <tr>\n",
       "      <th>125</th>\n",
       "      <td>1</td>\n",
       "      <td>35</td>\n",
       "      <td>6</td>\n",
       "    </tr>\n",
       "    <tr>\n",
       "      <th>126</th>\n",
       "      <td>2</td>\n",
       "      <td>65</td>\n",
       "      <td>6</td>\n",
       "    </tr>\n",
       "    <tr>\n",
       "      <th>127</th>\n",
       "      <td>3</td>\n",
       "      <td>33</td>\n",
       "      <td>7</td>\n",
       "    </tr>\n",
       "  </tbody>\n",
       "</table>\n",
       "<p>128 rows × 3 columns</p>\n",
       "</div>"
      ],
      "text/plain": [
       "     Category  Score  Label\n",
       "0           1     49      5\n",
       "1           4     50      6\n",
       "2           2     24      7\n",
       "3           1     44      6\n",
       "4           3     43      6\n",
       "..        ...    ...    ...\n",
       "123         3     64      5\n",
       "124         4     47      5\n",
       "125         1     35      6\n",
       "126         2     65      6\n",
       "127         3     33      7\n",
       "\n",
       "[128 rows x 3 columns]"
      ]
     },
     "execution_count": 18,
     "metadata": {},
     "output_type": "execute_result"
    }
   ],
   "source": [
    "# read the CSV data again\n",
    "data2 = pd.read_csv('data/random_data_2.csv')\n",
    "data2"
   ]
  },
  {
   "cell_type": "markdown",
   "id": "fcc6bde3-059f-4ed4-8cf0-a7fa53bda300",
   "metadata": {},
   "source": [
    "### Two-sided Hypothesis Test\n",
    "\n",
    "Suppose we would like to analyse the relationship between 'Category' and 'Score' in `data2`.\n",
    "- Null hypothesis ($H_{0}$): 'Category' and 'Score' are statistically equivalent.\n",
    "- Alternative hypothesis ($H_{A}$): 'Category' and 'Score' are not statistically equivalent (i.e. they are statistically different)."
   ]
  },
  {
   "cell_type": "code",
   "execution_count": 19,
   "id": "08b6c84d-65df-482f-bd83-b41d3b4b6e49",
   "metadata": {
    "tags": []
   },
   "outputs": [
    {
     "name": "stdout",
     "output_type": "stream",
     "text": [
      "Test statistic: -18.147340291960138\n",
      "p-value: 9.227541001561576e-48\n"
     ]
    }
   ],
   "source": [
    "test_statistic, p_value = stats.ttest_ind(data2['Category'], data2['Score'])\n",
    "print(\"Test statistic:\", test_statistic)\n",
    "print(\"p-value:\", p_value)"
   ]
  },
  {
   "cell_type": "markdown",
   "id": "d154f65b-5aa1-407d-8f61-14d432d97925",
   "metadata": {},
   "source": [
    "When the *p*-value is less than $\\alpha$, the null hypothesis is rejected. In this case, $p = 9.23 \\times 10^{-48} < \\alpha = 0.05$.\n",
    "Hence, we may conclude that 'Category' and 'Score' are statistically different."
   ]
  },
  {
   "cell_type": "markdown",
   "id": "63ccf053-5cd4-47a5-ab95-c9cfcbf1b1f2",
   "metadata": {},
   "source": [
    "### One-sample Hypothesis Test\n",
    "\n",
    "`stats.ttest_1samp` is used for hypothesis test regarding the mean of one group of scores.\n",
    "\n",
    "Suppose we claim that the mean of 'Score' is 50.\n",
    "- Null hypothesis ($H_{0}$): the mean of 'Score' is 50.\n",
    "- Alternative hypothesis ($H_{A}$): the mean of 'Score' is not 50."
   ]
  },
  {
   "cell_type": "code",
   "execution_count": 20,
   "id": "4f2b757a-d618-4d67-b165-b4b85c83365b",
   "metadata": {
    "tags": []
   },
   "outputs": [
    {
     "name": "stdout",
     "output_type": "stream",
     "text": [
      "Test statistic: -0.2684385809898622\n",
      "p-value: 0.7887972946413229\n"
     ]
    }
   ],
   "source": [
    "test_statistic, p_value = stats.ttest_1samp(data2['Score'], 50)\n",
    "print(\"Test statistic:\", test_statistic)\n",
    "print(\"p-value:\", p_value)"
   ]
  },
  {
   "cell_type": "markdown",
   "id": "68a8bdff-5ed3-4886-b81a-b36c8a248ea3",
   "metadata": {},
   "source": [
    "In this case, $p = 0.789 > \\alpha = 0.05$. Hence, we fail to reject the null hypothesis."
   ]
  },
  {
   "cell_type": "markdown",
   "id": "87ab0fae-6689-446d-b006-45fc29cc594c",
   "metadata": {},
   "source": [
    "### One-sided Hypothesis Test\n",
    "\n",
    "A **one-sided test** (also known as a **one-tailed test**) is a statistical test in which the alternative hypothesis specifies either a positive or negative direction of effect, while a two-sided test (also known as a two-tailed test) does not specify a particular direction of effect.\n",
    "\n",
    "In a one-sided test, the alternative hypothesis states that the parameter of interest is either greater than or less than the null hypothesis value, while the null hypothesis states that there is no significant difference between the parameter of interest and the null value. For example, suppose we want to test whether a new drug is more effective than a placebo. The one-sided alternative hypothesis would be that the drug is more effective than the placebo, while the null hypothesis would be that the drug is equally or less effective than the placebo.\n",
    "\n",
    "The choice between a one-sided or two-sided test depends on the research question and the directionality of the effect of interest. One-sided tests can be more powerful than two-sided tests when there is a clear direction of effect and the sample size is limited. However, one-sided tests should be used only when there is strong evidence to support the directionality of the effect, and the choice of a one-sided test should be made prior to conducting the analysis to avoid bias.\n",
    "\n",
    "To perform a one-sided test, we typically use a modified critical value or a modified *p*-value, depending on the test statistic being used. For example, in a one-sided *t*-test, the critical value would be adjusted to include only one tail of the distribution, while in a one-sided *z*-test, the *p*-value would be calculated as the area under the distribution curve in one tail of the distribution."
   ]
  },
  {
   "cell_type": "code",
   "execution_count": 21,
   "id": "7e674c4e-e134-46dc-9510-18aa29752119",
   "metadata": {
    "tags": []
   },
   "outputs": [
    {
     "name": "stdout",
     "output_type": "stream",
     "text": [
      "Test statistic: 11.445244953113214\n",
      "p-value: 1.4011753985414073e-21\n",
      "p-value halved: 7.005876992707036e-22\n"
     ]
    }
   ],
   "source": [
    "test_statistic, p_value = stats.ttest_1samp(data2['Score'], 20, alternative='greater')\n",
    "print(\"Test statistic:\", test_statistic)\n",
    "print(\"p-value:\", p_value)\n",
    "print(\"p-value halved:\", p_value/2)"
   ]
  },
  {
   "cell_type": "markdown",
   "id": "8226f4da-ab48-423c-9f6f-32cb33937149",
   "metadata": {},
   "source": [
    "In the above one-sided test, suppose the following:\n",
    "- null hypothesis: the mean of 'Score' is 20;\n",
    "- alterative hypothesis: the mean of 'Score' is greater than 20.\n",
    "Since $p/2 = 7.01 \\times 10^{-22} < \\alpha = 0.05$. The null hypothesis is rejected. Hence, there is strong evidence to show that the mean of 'Score' is greater than 20."
   ]
  },
  {
   "cell_type": "code",
   "execution_count": 22,
   "id": "90faf773-47da-4a59-96f0-53257f22a1ef",
   "metadata": {
    "tags": []
   },
   "outputs": [
    {
     "name": "stdout",
     "output_type": "stream",
     "text": [
      "Test statistic: 1.683842008027317\n",
      "p-value: 0.9526657075276026\n",
      "p-value halved: 0.4763328537638013\n"
     ]
    }
   ],
   "source": [
    "test_statistic, p_value = stats.ttest_1samp(data2['Score'], 45, alternative='less')\n",
    "print(\"Test statistic:\", test_statistic)\n",
    "print(\"p-value:\", p_value)\n",
    "print(\"p-value halved:\", p_value/2)"
   ]
  },
  {
   "cell_type": "markdown",
   "id": "89a3826b-a91e-41f9-8b5a-22f2fda91f3e",
   "metadata": {},
   "source": [
    "On the other hand, suppose the alternative hypothesis says that the mean of 'Score' is less than 40. There is insufficient evidence to reject the null hypothesis since $p/2 = 0.476 \\nless \\alpha = 0.05$."
   ]
  },
  {
   "cell_type": "markdown",
   "id": "58cddb35-8c61-4b16-b294-38e585b67407",
   "metadata": {},
   "source": [
    "## Linear Regression\n",
    "\n",
    "`scikit-learn` (`sklearn`) is a useful library in Python for linear regression.\n",
    "\n",
    "Function             | Description\n",
    "---------------------|----------------------------------------------------------------------------------------\n",
    "`lm.fit()`           | fits and returns a linear model\n",
    "`model.predict()`    | predict Y using the linear model with estimated coefficients\n",
    "`model.score()`      | returns the coefficient of determination ( $R^{2}$ )\n",
    "`model.intercept_`   | returns estimated intercept\n",
    "`model.coef_`        | returns estimated coefficients\n",
    "`train_test_split()` | splits your data into training and testing sets\n",
    "`pd.get_dummies()`   | encode a categorical variable into separate columns (typically use `drop_first=True`)\n"
   ]
  },
  {
   "cell_type": "code",
   "execution_count": 23,
   "id": "456fc978-5f73-43f1-9189-9a16c666ddf6",
   "metadata": {
    "tags": []
   },
   "outputs": [],
   "source": [
    "from sklearn.linear_model import LinearRegression       # linear regression\n",
    "from sklearn.model_selection import train_test_split    # train-test split\n",
    "from sklearn.preprocessing import OneHotEncoder         # nominal variable"
   ]
  },
  {
   "cell_type": "code",
   "execution_count": 24,
   "id": "283bbc5f-8913-459d-8870-87940f54a5f4",
   "metadata": {
    "tags": []
   },
   "outputs": [],
   "source": [
    "np.random.seed(2420)\n",
    "X = np.random.rand(100, 5)  # 100 rows, 5 features\n",
    "y = np.dot(X, np.array([1, 2, 3, 4, 5])) + np.random.rand(100) * 10  # y is a linear combination of X features plus noise"
   ]
  },
  {
   "cell_type": "code",
   "execution_count": 25,
   "id": "f69ef59e-b0a1-4ffe-8e34-f08418fe9cbf",
   "metadata": {
    "tags": []
   },
   "outputs": [],
   "source": [
    "# create an instance of LinearRegression\n",
    "lr = LinearRegression()\n",
    "# create a linear regression model based on X and y\n",
    "model = lr.fit(X, y)"
   ]
  },
  {
   "cell_type": "code",
   "execution_count": 26,
   "id": "a42795c4-0357-4b1e-9200-e06a1ba71778",
   "metadata": {
    "tags": []
   },
   "outputs": [
    {
     "name": "stdout",
     "output_type": "stream",
     "text": [
      "The y-intercept is: 5.854\n",
      "The coefficients are: [-0.3071  1.9701  2.5837  3.9531  4.8099]\n"
     ]
    }
   ],
   "source": [
    "print(\"The y-intercept is:\", model.intercept_.round(4))\n",
    "print(\"The coefficients are:\", model.coef_.round(4))"
   ]
  },
  {
   "cell_type": "markdown",
   "id": "65196a7c-d837-4eaf-a115-417ef7f655aa",
   "metadata": {},
   "source": [
    "The equation for the linear regression model is therefore\n",
    "$y = 5.8540 - 0.3071x_{0} + 1.9701x_{1} + 2.5837x_{2} + 3.9531x_{3} + 4.8099x_{41643}$.\n",
    "\n",
    "`model.predict()` may then be used to make predictions."
   ]
  },
  {
   "cell_type": "code",
   "execution_count": 27,
   "id": "ba35e11f-6f6e-4712-837a-ddb701108cf3",
   "metadata": {
    "tags": []
   },
   "outputs": [
    {
     "name": "stdout",
     "output_type": "stream",
     "text": [
      "Predicted y-value: [10.31]\n",
      "Predicted y-value: 10.31\n"
     ]
    }
   ],
   "source": [
    "print(\"Predicted y-value:\", model.predict(np.array([0.5, 0.4, 0.2, 0.69, 0.12]).reshape(1, -1)).round(2))\n",
    "print(\"Predicted y-value:\", round(5.854 - 0.3071*0.5 + 1.9701*0.4 + 2.5837*0.2 + 3.9531*0.69 + 4.8099*0.12, 2))"
   ]
  },
  {
   "cell_type": "markdown",
   "id": "bd12e718-8d32-4fec-840a-65b037ab6619",
   "metadata": {},
   "source": [
    "## Logistic Regression for Classification\n",
    "\n",
    "While linear regression is suitable for prediction of continuous outputs, **logistic regression** is used when the outcome variable is binary. In case when there are more than two possible outcomes, a **multinominal logistic regression** model may be used."
   ]
  },
  {
   "cell_type": "code",
   "execution_count": 28,
   "id": "f7f7569d-f456-40cc-bc20-f74d124c1cad",
   "metadata": {
    "tags": []
   },
   "outputs": [],
   "source": [
    "from sklearn.linear_model import LogisticRegression     # Logistic Regression"
   ]
  },
  {
   "cell_type": "code",
   "execution_count": 29,
   "id": "6962cad3-7bc5-4bea-9d72-3c25e0ab148d",
   "metadata": {
    "tags": []
   },
   "outputs": [],
   "source": [
    "# generate random data\n",
    "np.random.seed(2420)\n",
    "X = np.random.normal(size=(100, 2))\n",
    "y = np.random.binomial(n=1, p=1/(1+np.exp(-(X[:,0] + X[:,1] + np.random.normal(size=100))))).astype(int)"
   ]
  },
  {
   "cell_type": "code",
   "execution_count": 30,
   "id": "52e60362-1438-412a-962e-a7ede1842e9d",
   "metadata": {
    "tags": []
   },
   "outputs": [
    {
     "name": "stdout",
     "output_type": "stream",
     "text": [
      "Accuracy: 0.8\n"
     ]
    }
   ],
   "source": [
    "# split the data into training and test sets\n",
    "X_train, X_test, y_train, y_test = train_test_split(X, y, test_size=0.2, random_state=2420)\n",
    "\n",
    "# create a logistic regression model\n",
    "model = LogisticRegression()\n",
    "\n",
    "# fit the model to the training data\n",
    "model.fit(X_train, y_train)\n",
    "\n",
    "# evaluate the model on the test data\n",
    "accuracy = model.score(X_test, y_test)\n",
    "print(\"Accuracy:\", accuracy)"
   ]
  },
  {
   "cell_type": "markdown",
   "id": "b5d6e90a-d048-45aa-93ec-797ea633fbd6",
   "metadata": {},
   "source": [
    "## *k*-Nearest Neighbours\n",
    "\n",
    "***k*-nearest neighbours** (kNN) is a supervised learning algorithm for classification and regression tasks. Given a new observation, the kNN algorithm identifies the *k* closest observations in the training set and predicts the class or value of the new observation based on the most common or average value among its *k* nearest neighbours."
   ]
  },
  {
   "cell_type": "code",
   "execution_count": 31,
   "id": "a5344069-524c-47ea-8045-4f6a26c29b24",
   "metadata": {
    "tags": []
   },
   "outputs": [],
   "source": [
    "from sklearn.neighbors import KNeighborsClassifier\n",
    "from sklearn.datasets import make_classification"
   ]
  },
  {
   "cell_type": "code",
   "execution_count": 32,
   "id": "24d911e2-f728-4424-af71-d41e26b3a92e",
   "metadata": {
    "tags": []
   },
   "outputs": [],
   "source": [
    "# generate random data\n",
    "X, y = make_classification(n_samples=1000, n_features=10, n_classes=2)"
   ]
  },
  {
   "cell_type": "code",
   "execution_count": 33,
   "id": "e1985e35-359f-4f1c-9976-dff5c36f0c1a",
   "metadata": {
    "tags": []
   },
   "outputs": [
    {
     "name": "stdout",
     "output_type": "stream",
     "text": [
      "Accuracy: 0.85\n"
     ]
    }
   ],
   "source": [
    "# generate random data\n",
    "X, y = make_classification(n_samples=1000, n_features=10, n_classes=2)\n",
    "\n",
    "# split the data into training and testing sets\n",
    "X_train, X_test, y_train, y_test = train_test_split(X, y, test_size=0.2, random_state=242)\n",
    "\n",
    "# create a KNN classifier with k=5\n",
    "knn = KNeighborsClassifier(n_neighbors=5)\n",
    "\n",
    "# fit the classifier to the training data\n",
    "knn.fit(X_train, y_train)\n",
    "\n",
    "# predict labels for the test data\n",
    "y_pred = knn.predict(X_test)\n",
    "\n",
    "# calculate the accuracy of the classifier\n",
    "accuracy = knn.score(X_test, y_test)\n",
    "\n",
    "print(\"Accuracy:\", accuracy)"
   ]
  },
  {
   "cell_type": "markdown",
   "id": "c92f3a6c-1670-403c-84b4-be01429f1286",
   "metadata": {},
   "source": [
    "## Decision Trees\n",
    "\n",
    "**Decision trees** represent a hierarchical structure of nodes and branches that map input features to output labels or values. Each internal node of the tree represents a decision based on a feature of the input data, and each leaf node represents a class or value prediction. The goal of the algorithm is to construct a decision tree that maximises the accuracy of predictions on the training set while avoiding overfitting."
   ]
  },
  {
   "cell_type": "code",
   "execution_count": 34,
   "id": "625789b7-64a1-4b5f-b39e-fe3375ab6658",
   "metadata": {
    "tags": []
   },
   "outputs": [
    {
     "name": "stdout",
     "output_type": "stream",
     "text": [
      "Accuracy: 0.9666666666666667\n"
     ]
    }
   ],
   "source": [
    "from sklearn.datasets import load_iris\n",
    "from sklearn.tree import DecisionTreeClassifier\n",
    "from sklearn.model_selection import train_test_split\n",
    "from sklearn.metrics import accuracy_score\n",
    "\n",
    "# load the iris dataset\n",
    "iris = load_iris()\n",
    "# split the data into training and testing sets\n",
    "X_train, X_test, y_train, y_test = train_test_split(iris.data, iris.target, test_size=0.2, random_state=2420)\n",
    "\n",
    "# initialise the decision tree classifier with a maximum depth of 3\n",
    "dtc = DecisionTreeClassifier(max_depth=3)\n",
    "# fit the classifier to the training data\n",
    "dtc.fit(X_train, y_train)\n",
    "# make predictions on the testing data\n",
    "y_pred = dtc.predict(X_test)\n",
    "\n",
    "# evaluate the accuracy of the classifier\n",
    "accuracy = accuracy_score(y_test, y_pred)\n",
    "\n",
    "print(\"Accuracy:\", accuracy)"
   ]
  },
  {
   "cell_type": "markdown",
   "id": "208b41c4-6107-4d6a-aefe-a3fafe128bf4",
   "metadata": {},
   "source": [
    "## Clustering\n",
    "\n",
    "**Clustering** is an unsupervised learning algorithm that involves partitioning a set of data points into groups or clusters based on their similarity. The goal of clustering is to group together observations that are similar to each other while keeping observations that are dissimilar in separate clusters."
   ]
  },
  {
   "cell_type": "code",
   "execution_count": 35,
   "id": "aabf673c-fcae-48d2-bd8d-5e3ed4596598",
   "metadata": {
    "tags": []
   },
   "outputs": [
    {
     "data": {
      "image/png": "[encoded data removed]",
      "text/plain": [
       "<Figure size 800x550 with 1 Axes>"
      ]
     },
     "metadata": {},
     "output_type": "display_data"
    }
   ],
   "source": [
    "from sklearn.cluster import KMeans\n",
    "from sklearn.datasets import make_blobs\n",
    "\n",
    "# generate random data with 4 clusters\n",
    "X, y = make_blobs(n_samples=1000, centers=4, random_state=2420)\n",
    "\n",
    "# initialise the KMeans algorithm with 4 clusters\n",
    "kmeans = KMeans(n_clusters=4, n_init='auto')\n",
    "# fit the KMeans algorithm to the data\n",
    "kmeans.fit(X)\n",
    "# get the cluster labels for each data point\n",
    "labels = kmeans.labels_\n",
    "# get the coordinates of the cluster centres\n",
    "centres = kmeans.cluster_centers_\n",
    "\n",
    "# plot the data points with different colours for each cluster\n",
    "plt.scatter(X[:, 0], X[:, 1], c=labels, cmap='viridis')\n",
    "# plot the cluster centres as black circles\n",
    "plt.scatter(centres[:, 0], centres[:, 1], marker='o', c='black', s=1)\n",
    "plt.xlabel(\"Feature 1\")\n",
    "plt.ylabel(\"Feature 2\")\n",
    "plt.title(\"Clustering of Randomly Generated Data with 4 Clusters using KMeans Algorithm\")\n",
    "plt.show()"
   ]
  }
 ],
 "metadata": {
  "kernelspec": {
   "display_name": "Python 3 (ipykernel)",
   "language": "python",
   "name": "python3"
  },
  "language_info": {
   "codemirror_mode": {
    "name": "ipython",
    "version": 3
   },
   "file_extension": ".py",
   "mimetype": "text/x-python",
   "name": "python",
   "nbconvert_exporter": "python",
   "pygments_lexer": "ipython3",
   "version": "3.10.10"
  }
 },
 "nbformat": 4,
 "nbformat_minor": 5
}
